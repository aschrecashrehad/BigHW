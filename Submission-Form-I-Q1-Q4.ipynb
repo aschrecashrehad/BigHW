{
 "cells": [
  {
   "cell_type": "markdown",
   "metadata": {},
   "source": [
    "### MATH2504 S2, 2022, BigHW Submission \n",
    "### Submission form I of IV "
   ]
  },
  {
   "cell_type": "markdown",
   "metadata": {},
   "source": [
    "Student #1 name: Stefan Radosavljevic\n",
    "\n",
    "Student #1 ID:44304065\n",
    "\n",
    "Student #2 name: Alexander Wilson\n",
    "\n",
    "Student #2 ID:44867421\n",
    "\n",
    "GitHub repo: https://github.com/aschrecashrehad/BigHW"
   ]
  },
  {
   "cell_type": "markdown",
   "metadata": {},
   "source": [
    "---\n",
    "\n",
    "**Note: It is expected that this notebook be runnable in the sense that the marker can select \"Restart & Run All\" and all code cells of solutions will execute. This requires not to have name clashes between solutions.**\n",
    "\n",
    "---"
   ]
  },
  {
   "cell_type": "markdown",
   "metadata": {},
   "source": [
    "# Solution to [Question 1](https://courses.smp.uq.edu.au/MATH2504/2022/assessment_html/bighw.html#q1)"
   ]
  },
  {
   "cell_type": "markdown",
   "metadata": {},
   "source": [
    "## 1a:"
   ]
  },
  {
   "cell_type": "markdown",
   "metadata": {},
   "source": [
    "$\\phi = 1 + \\frac{1}{1+\\frac{1}{1+\\frac{1}{1+\\frac{1}{1+...}}}}$ "
   ]
  },
  {
   "cell_type": "markdown",
   "metadata": {},
   "source": [
    "## 1b:"
   ]
  },
  {
   "cell_type": "markdown",
   "metadata": {},
   "source": [
    "<ol>\n",
    "<li><a href=https://www.wizardingworld.com/> Harry Potter <a></li>\n",
    "<li><a href = https://en.wikipedia.org/wiki/Fifty_Shades_of_Grey> Fifty Shades of Grey </a></li>\n",
    "<li><a href=https://en.wikipedia.org/wiki/Beyond_Good_and_Evil> Beyond Good and Evil</a> </li>\n",
    "<li><a href=https://www.penguin.com.au/authors/fyodor-dostoyevsky> All of Dostoyevsky </a> </li>\n",
    "<li><a href=https://www.amazon.com.au/My-Little-Pony-Ultimate-Guide/dp/1408350645/ref=asc_df_1408350645/?tag=googleshopdsk-22&linkCode=df0&hvadid=341772716290&hvpos=&hvnetw=g&hvrand=18173456320029001002&hvpone=&hvptwo=&hvqmt=&hvdev=c&hvdvcmdl=&hvlocint=&hvlocphy=9069314&hvtargid=pla-415302607896&psc=1> My Little Pony Ultimate Guide (Hardcover) </a></li>\n",
    "</ol>"
   ]
  },
  {
   "cell_type": "markdown",
   "metadata": {},
   "source": [
    "## 1c:"
   ]
  },
  {
   "cell_type": "markdown",
   "metadata": {},
   "source": [
    "<img src=\"https://res.cloudinary.com/teepublic/image/private/s--IzL0u5hv--/t_Resized%20Artwork/c_fit,g_north_west,h_954,w_954/co_000000,e_outline:48/co_000000,e_outline:inner_fill:48/co_ffffff,e_outline:48/co_ffffff,e_outline:inner_fill:48/co_bbbbbb,e_outline:3:1000/c_mpad,g_center,h_1260,w_1260/b_rgb:eeeeee/t_watermark_lock/c_limit,f_auto,h_630,q_90,w_630/v1581054417/production/designs/7873129_1.jpg\" alt=\"Cool Zoom Profile\">"
   ]
  },
  {
   "cell_type": "markdown",
   "metadata": {},
   "source": [
    "## 1d:"
   ]
  },
  {
   "cell_type": "markdown",
   "metadata": {},
   "source": [
    "<table>\n",
    "  <tr>\n",
    "    <th>Time</th>\n",
    "    <th>Monday</th>\n",
    "    <th>Tuesday</th>\n",
    "    <th>Wednesday</th>\n",
    "    <th>Thursday</th>\n",
    "    <th>Friday</th>\n",
    "\n",
    "  </tr>\n",
    "  <tr>\n",
    "    <td>9-5</td>\n",
    "    <td>Make a Living</td>\n",
    "    <td>Make a Living</td>\n",
    "    <td>Make a Living</td>\n",
    "    <td>Make a Living</td>\n",
    "    <td>Make a Living</td>\n",
    "  </tr>\n",
    "  <tr>\n",
    "    <td>5-6</td>\n",
    "    <td>LekChurr</td>\n",
    "    <td>Chillen</td>\n",
    "    <td>Chillen</td>\n",
    "    <td>Chillen</td>\n",
    "    <td>Chillen</td>\n",
    "  </tr>\n",
    "  <tr>\n",
    "    <td>6-7</td>\n",
    "    <td>LekChurr</td>\n",
    "    <td>LekChurr</td>\n",
    "    <td>Prac</td>\n",
    "    <td>Chillen</td>\n",
    "    <td>Chillen</td>\n",
    "  </tr>\n",
    "</table>"
   ]
  },
  {
   "cell_type": "markdown",
   "metadata": {},
   "source": [
    "# Solution to [Question 2](https://courses.smp.uq.edu.au/MATH2504/2022/assessment_html/bighw.html#q2)"
   ]
  },
  {
   "cell_type": "markdown",
   "metadata": {},
   "source": [
    "## 2a:"
   ]
  },
  {
   "cell_type": "markdown",
   "metadata": {},
   "source": [
    "#### 2a.1:"
   ]
  },
  {
   "cell_type": "code",
   "execution_count": null,
   "metadata": {},
   "outputs": [],
   "source": [
    "function real_roots_of_quadratic(a::Number, b::Number, c::Number)\n",
    "\n",
    "    a == 0 && return \"Error - this is not a quadratic equation\"\n",
    "\n",
    "    #Start by initializing an empty array\n",
    "    roots::Array{Float64} = []\n",
    "\n",
    "    #Compute the discriminant \n",
    "    Δ = b^2 - 4a*c #\\Delta + [TAB]\n",
    "\n",
    "    #Based on the sign of the discriminant return 0, 1, or 2 roots.\n",
    "    if Δ < 0 \n",
    "        roots = []\n",
    "    elseif Δ == 0\n",
    "        roots = [-b/(2a)]\n",
    "    else\n",
    "        roots = (-b .+ [√Δ,-√Δ])/(2a) #\\sqrt + [TAB]\n",
    "    end\n",
    "    return roots \n",
    "end\n",
    "\n",
    "#Attempting on -x²+5x-6=0\n",
    "real_roots_of_quadratic(0.00,5,-6)\n",
    "\n"
   ]
  },
  {
   "cell_type": "code",
   "execution_count": null,
   "metadata": {},
   "outputs": [],
   "source": [
    "Seems to work since we input numbers"
   ]
  },
  {
   "cell_type": "markdown",
   "metadata": {},
   "source": [
    "#### 2a.2:"
   ]
  },
  {
   "cell_type": "markdown",
   "metadata": {},
   "source": [
    "4ac wouldnt work, Julia can compute (4a) since a is defined as a variable, and its multiplying the variable 'a' by 4. Won't do the same for '4ac' since it reads 'ac' as a variable which is not defined, this is why 4a*c is used, julia reads it as (4a)*(c)."
   ]
  },
  {
   "cell_type": "markdown",
   "metadata": {},
   "source": [
    "#### 2a.3:"
   ]
  },
  {
   "cell_type": "code",
   "execution_count": null,
   "metadata": {},
   "outputs": [],
   "source": [
    "### Make this a markdown cell and answer 2a.3 here (in place of this comment)"
   ]
  },
  {
   "cell_type": "markdown",
   "metadata": {},
   "source": [
    "#### 2a.4:"
   ]
  },
  {
   "cell_type": "code",
   "execution_count": null,
   "metadata": {},
   "outputs": [],
   "source": [
    "Yes, it works with the given expression of (-b .+ [√Δ,-√Δ])/(2a). Using '+' instead of '.+' makes it not work, this is "
   ]
  },
  {
   "cell_type": "markdown",
   "metadata": {},
   "source": [
    "#### 2a.5:"
   ]
  },
  {
   "cell_type": "code",
   "execution_count": null,
   "metadata": {},
   "outputs": [],
   "source": [
    "### Make this a markdown cell and answer 2a.5 here (in place of this comment)"
   ]
  },
  {
   "cell_type": "markdown",
   "metadata": {},
   "source": [
    "#### 2a.6:"
   ]
  },
  {
   "cell_type": "code",
   "execution_count": null,
   "metadata": {},
   "outputs": [],
   "source": [
    "We get the output 'Nan' and '-Inf' since we're trying to divide by zero, which is a big no no. "
   ]
  },
  {
   "cell_type": "markdown",
   "metadata": {},
   "source": [
    "#### 2a.7:"
   ]
  },
  {
   "cell_type": "code",
   "execution_count": null,
   "metadata": {},
   "outputs": [],
   "source": [
    "function real_roots_of_quadratic(a::Number, b::Number, c::Number)\n",
    "\n",
    "    a == 0 && throw(DomainError(a, \"argument must be nonzero\"))\n",
    "\n",
    "\n",
    "    #Start by initializing an empty array\n",
    "    roots::Array{Float64} = []\n",
    "\n",
    "    #Compute the discriminant \n",
    "    Δ = b^2 - 4a*c #\\Delta + [TAB]\n",
    "\n",
    "    #Based on the sign of the discriminant return 0, 1, or 2 roots.\n",
    "    if Δ < 0 \n",
    "        roots = []\n",
    "    elseif Δ == 0\n",
    "        roots = [-b/(2a)]\n",
    "    else\n",
    "        roots = (-b .+ [√Δ,-√Δ])/(2a) #\\sqrt + [TAB]\n",
    "    end\n",
    "    return roots \n",
    "end\n",
    "\n",
    "#Attempting on -x²+5x-6=0\n",
    "real_roots_of_quadratic(0.00,5,-6)\n",
    "\n"
   ]
  },
  {
   "cell_type": "markdown",
   "metadata": {},
   "source": [
    "#### 2a.8:"
   ]
  },
  {
   "cell_type": "code",
   "execution_count": null,
   "metadata": {},
   "outputs": [],
   "source": [
    "function real_roots_of_quadratic(a::Number, b::Number, c::Number)\n",
    "\n",
    "    a == 0 && return \"Error - this is not a quadratic equation\"\n",
    "\n",
    "    #Start by initializing an empty array\n",
    "    roots::Array{Float64} = []\n",
    "\n",
    "    #Compute the discriminant \n",
    "    Δ = b^2 - 4a*c #\\Delta + [TAB]\n",
    "\n",
    "    #Based on the sign of the discriminant return 0, 1, or 2 roots.\n",
    "    if Δ < 0 \n",
    "        roots = []\n",
    "    elseif Δ == 0\n",
    "        roots = [-b/(2a)]\n",
    "    else\n",
    "        roots = (-b .+ [√Δ,-√Δ])/(2a) #\\sqrt + [TAB]\n",
    "    end\n",
    "    return roots \n",
    "end\n",
    "\n",
    "#Attempting on -x²+5x-6=0\n",
    "real_roots_of_quadratic(0.00,5,-6)\n",
    "\n"
   ]
  },
  {
   "cell_type": "markdown",
   "metadata": {},
   "source": [
    "#### 2a.9:"
   ]
  },
  {
   "cell_type": "code",
   "execution_count": null,
   "metadata": {},
   "outputs": [],
   "source": [
    "function real_roots_of_quadratic(a::Number, b::Number, c::Number)\n",
    "\n",
    "    a == 0 && throw(DomainError(a, \"argument must be nonzero\"))\n",
    "\n",
    "\n",
    "    #Start by initializing an empty array\n",
    "    roots::Array{Float64} = []\n",
    "\n",
    "    #Compute the discriminant \n",
    "    Δ = b^2 - 4a*c #\\Delta + [TAB]\n",
    "\n",
    "    #Based on the sign of the discriminant return 0, 1, or 2 roots.\n",
    "    if Δ < 0 \n",
    "        roots = []\n",
    "    elseif Δ == 0\n",
    "        roots = [-b/(2a)]\n",
    "    else\n",
    "        roots = (-b .+ [√Δ,-√Δ])/(2a) #\\sqrt + [TAB]\n",
    "    end\n",
    "    return roots \n",
    "end\n",
    "\n"
   ]
  },
  {
   "cell_type": "markdown",
   "metadata": {},
   "source": [
    "---"
   ]
  },
  {
   "cell_type": "markdown",
   "metadata": {},
   "source": [
    " ## 2b:"
   ]
  },
  {
   "cell_type": "markdown",
   "metadata": {},
   "source": [
    "#### 2b.1:"
   ]
  },
  {
   "cell_type": "code",
   "execution_count": null,
   "metadata": {},
   "outputs": [],
   "source": [
    "examples = [[1,-5,6], [1,2,3],[1,7,0],[1,1,0],[2,2,-2]]\n",
    "\n",
    "for example in examples\n",
    "    roots = real_roots_of_quadratic(example[1], example[2], example[3])\n",
    "    print(\"The equation $(example[1])x² + $(example[2])x + $(example[3]) = 0 \") #\\^2 + [TAB] #***\n",
    "    if length(roots) == 0 #***\n",
    "        println(\"has no real roots.\") #***\n",
    "    elseif length(roots) == 1 #***\n",
    "        println(\"has the single (real) root $(roots[1])\") #***\n",
    "    else #***\n",
    "        println(\"has the real roots $(roots[1]) and $(roots[2])\") #***\n",
    "    end #***\n",
    "end"
   ]
  },
  {
   "cell_type": "markdown",
   "metadata": {},
   "source": [
    "#### 2b.2:"
   ]
  },
  {
   "cell_type": "code",
   "execution_count": null,
   "metadata": {},
   "outputs": [],
   "source": [
    "examples = [[1,-5,6], [1,2,3],[1,7,0],[1,1,0],[2,2,-2]]\n",
    "\n",
    "function print_quadratic_roots(coefficients,roots)\n",
    "    if length(roots) == 0\n",
    "        println(\"has no real roots. \\t\" )\n",
    "\n",
    "    elseif length(roots)==1\n",
    "        println(\"has the single (real) root $(roots[1]). \\t\")\n",
    "\n",
    "    else \n",
    "        println(\"has the real roots $(roots[1]) and $(roots[2]). \\t\")\n",
    "    return nothing\n",
    "    end\n",
    "end\n",
    "\n",
    "for example in examples\n",
    "    roots = real_roots_of_quadratic(example[1], example[2], example[3])\n",
    "    print(\"The equation $(example[1])x² + $(example[2])x + $(example[3]) = 0 \") #\\^2 + [TAB] #***\n",
    "    print_quadratic_roots(example,roots)\n",
    "end\n"
   ]
  },
  {
   "cell_type": "markdown",
   "metadata": {},
   "source": [
    "#### 2b.3:"
   ]
  },
  {
   "cell_type": "code",
   "execution_count": null,
   "metadata": {},
   "outputs": [],
   "source": [
    "examples = [[1,-5,6], [1,2,3],[1,7,0],[1,1,0],[2,2,-2]]\n",
    "\n",
    "function print_quadratic_roots(coefficients,roots)\n",
    "    length(roots) == 0 ? println(\"has no real roots.\") : \n",
    "    length(roots) == 1 ? println(\"has the single (real) root $(roots[1]).\") : println(\"has the real roots $(roots[1]) and $(roots[2]).\")\n",
    "end\n",
    "\n",
    "function coef(coefficient)\n",
    "    coeff = coefficient[1] == 1 ? \"\" : \n",
    "            coefficient[1] == -1 ? \"-\" : (coefficient[1])\n",
    "end\n",
    "\n",
    "for example in examples\n",
    "    roots = real_roots_of_quadratic(example[1], example[2], example[3])\n",
    "    #print(\"The equation $(example[1])x² + $(example[2])x + $(example[3]) = 0 \") #\\^2 + [TAB] #***\n",
    "    print(\"The equation \", coef(example[1]),\"x² + \", coef(example[2]), \"x + $(example[3]) = 0 \")\n",
    "    print_quad_roots(example,roots)\n",
    "end\n"
   ]
  },
  {
   "cell_type": "markdown",
   "metadata": {},
   "source": [
    "## 2c:"
   ]
  },
  {
   "cell_type": "markdown",
   "metadata": {},
   "source": [
    "#### 2c.1:"
   ]
  },
  {
   "cell_type": "code",
   "execution_count": null,
   "metadata": {},
   "outputs": [],
   "source": [
    "using Random\n",
    "\"\"\"\n",
    "This function generates `num_tests` random triples of coefficients and checks that the function `real_roots_of_quadratic()` does its job. The return value is `true` if the test passed, otherwise it is `false`.\n",
    "\"\"\"\n",
    "function test_real_roots_of_quadratic(;num_tests = 10000, seed=42)\n",
    "    Random.seed!(seed)\n",
    "    test_passed = true\n",
    "    for _ in 1:num_tests\n",
    "        a, b, c = 10rand(3) .- 5 #uniform values in the range [-1000, 1000]\n",
    "        roots = real_roots_of_quadratic(a,b,c)\n",
    "        for x in roots\n",
    "            err = a*x^2 + b*x + c \n",
    "            test_passed = (test_passed && isapprox(err, 0.0, atol = 1e-8)) \n",
    "        end\n",
    "    end\n",
    "    return test_passed\n",
    "end\n",
    "\n",
    "test_real_roots_of_quadratic() ? println(\"Test passed\") : println(\"Test failed\")"
   ]
  },
  {
   "cell_type": "markdown",
   "metadata": {},
   "source": [
    "The way that the \"2000rand(3) .- 1000\" works is that it generates 3 numbers between 0 and 1 and makes a 3 element array with them. Then, it multiplies all of those numbers by 2000, meaning that it now generates numbers between 0-2000.\n",
    "Then, it subtracts 1000 from each element (due to the .- operator), meaning the new range is now -1000,1000.\n",
    "To change this around to be from [-5,5] we write 10rand(3) .- 5"
   ]
  },
  {
   "cell_type": "markdown",
   "metadata": {},
   "source": [
    "#### 2c.2:"
   ]
  },
  {
   "cell_type": "code",
   "execution_count": null,
   "metadata": {},
   "outputs": [],
   "source": [
    "using Random\n",
    "\"\"\"\n",
    "This function generates `num_tests` random triples of coefficients and checks that the function `real_roots_of_quadratic()` does its job. The return value is `true` if the test passed, otherwise it is `false`.\n",
    "\"\"\"\n",
    "function test_real_roots_of_quadratic(;num_tests = 10000, seed=42, coeff_min=-1000, coeff_max=1000)\n",
    "    Random.seed!(seed)\n",
    "    test_passed = true\n",
    "    for _ in 1:num_tests\n",
    "        a, b, c = coeff_max.*rand(3) .- coeff_min #uniform values in the range [-1000, 1000]\n",
    "        roots = real_roots_of_quadratic(a,b,c)\n",
    "        for x in roots\n",
    "            err = a*x^2 + b*x + c \n",
    "            test_passed = (test_passed && isapprox(err, 0.0, atol = 1e-8)) \n",
    "        end\n",
    "    end\n",
    "    return test_passed\n",
    "end\n",
    "\n",
    "test_real_roots_of_quadratic() ? println(\"Test passed\") : println(\"Test failed\")"
   ]
  },
  {
   "cell_type": "markdown",
   "metadata": {},
   "source": [
    "#### 2c.3:"
   ]
  },
  {
   "cell_type": "markdown",
   "metadata": {},
   "source": [
    "If there are no real roots, the function 'real_roots_of_quadratic' returns and empty array (roots=[]). The following line asks to iterate through elements in the 'roots' array. \n",
    "However, since the 'roots' array is empty, the 'for' loop doesnt execute and this code is skipped over. This can be seen by the code in the following cell. Therefore, the for loop runs zero times."
   ]
  },
  {
   "cell_type": "code",
   "execution_count": null,
   "metadata": {},
   "outputs": [],
   "source": [
    "aaa = [] #this is the empty boy\n",
    "bbb = [1] # this is the full girl\n",
    "\n",
    "for x in aaa #look for elements in the the empty boy (oh nooo it isnt gonna work)\n",
    "    print(\"if this prints then i am wrong\")\n",
    "end\n",
    "\n",
    "for x in bbb # look for elements in the full girl (oh loooook it woooooorks)\n",
    "    print(\"if this prints then i am correct\")\n",
    "end\n"
   ]
  },
  {
   "cell_type": "markdown",
   "metadata": {},
   "source": [
    "#### 2c.4:"
   ]
  },
  {
   "cell_type": "code",
   "execution_count": null,
   "metadata": {},
   "outputs": [],
   "source": [
    "### Answer 2c.4 here (in place of this comment)"
   ]
  },
  {
   "cell_type": "markdown",
   "metadata": {},
   "source": [
    "#### 2c.5:"
   ]
  },
  {
   "cell_type": "code",
   "execution_count": null,
   "metadata": {},
   "outputs": [],
   "source": [
    "using Random\n",
    "\"\"\"\n",
    "This function generates `num_tests` random triples of coefficients and checks that the function `real_roots_of_quadratic()` does its job. The return value is `true` if the test passed, otherwise it is `false`.\n",
    "\"\"\"\n",
    "function test_real_roots_of_quadratic(;num_tests = 10000, seed=42, coeff_min=-1000, coeff_max=1000)\n",
    "    Random.seed!(seed)\n",
    "    test_passed = true\n",
    "    for _ in 1:num_tests\n",
    "        n_roots = rand(0:2)\n",
    "        if n_roots ==1\n",
    "            b = 2000rand(1) .- 1000\n",
    "    end\n",
    "    return test_passed\n",
    "end\n",
    "\n",
    "test_real_roots_of_quadratic() ? println(\"Test passed\") : println(\"Test failed\")\n",
    "    \n"
   ]
  },
  {
   "cell_type": "code",
   "execution_count": null,
   "metadata": {},
   "outputs": [],
   "source": [
    "Random.seed!(42)\n",
    "num_tests = 10\n",
    "\n",
    "for _ in 1:num_tests\n",
    "    #n_roots = rand(0:2)\n",
    "    n_roots=2\n",
    "    if n_roots == 2\n",
    "   \n",
    "    end\n",
    "end\n",
    "\n",
    "\n",
    "\n"
   ]
  },
  {
   "cell_type": "markdown",
   "metadata": {},
   "source": [
    "## 2d:"
   ]
  },
  {
   "cell_type": "code",
   "execution_count": null,
   "metadata": {},
   "outputs": [],
   "source": [
    "### Answer 2d here (in place of this comment)"
   ]
  },
  {
   "cell_type": "markdown",
   "metadata": {},
   "source": [
    "---\n",
    "\n",
    "*Use this area below as an experimental playground for the question. Feel free to leave some of the experimental code here with your submision. However, it will not be marked or reviewed. Make sure in your submission that if there is any experimental code here then running it does not interfere with running the actual solutions.*\n",
    "\n",
    "---"
   ]
  },
  {
   "cell_type": "code",
   "execution_count": null,
   "metadata": {},
   "outputs": [],
   "source": []
  },
  {
   "cell_type": "code",
   "execution_count": null,
   "metadata": {},
   "outputs": [],
   "source": []
  },
  {
   "cell_type": "code",
   "execution_count": null,
   "metadata": {},
   "outputs": [],
   "source": []
  },
  {
   "cell_type": "markdown",
   "metadata": {},
   "source": [
    "# Solution to [Question 3](https://courses.smp.uq.edu.au/MATH2504/2022/assessment_html/bighw.html#q3)"
   ]
  },
  {
   "cell_type": "markdown",
   "metadata": {},
   "source": [
    "## 3a:"
   ]
  },
  {
   "cell_type": "markdown",
   "metadata": {},
   "source": [
    "#### 3a.1:"
   ]
  },
  {
   "cell_type": "markdown",
   "metadata": {},
   "source": [
    "The function operates by taking some integer 'x', and then placing it through a while loop whereby 'x' is used as the input variable for an if loop. \n",
    "\n",
    "The if loop is ((x % 2 == 0) ? (x ÷ 2) : (3x + 1)), which is 'if xmod(2) is equal to 0, then divide x by two, otherwise, multiply it by three and add 1'. The result of this loop is then fed back into the same if statement as our while loop iterates, until the result equals 1, with each iteration of the while loop printing out the result of that iteration.\n",
    "\n",
    "If we change the integer divide function '÷' into a regular divide function '/' then the result of each loop iteration will be a real as opposed to an intege, i.e. every number printed is of the form 'x.0', that is the integer 'x' followed by a '.0' to denote it as a real."
   ]
  },
  {
   "cell_type": "markdown",
   "metadata": {},
   "source": [
    "#### 3a.2:"
   ]
  },
  {
   "cell_type": "markdown",
   "metadata": {},
   "source": [
    "The Collatz Conjecture can be mathematically stated as:\n",
    "For the function f(n), where f(n) = n/2 if n is even and f(n) = 3n + 1 if n is odd (n is a positive integer), then if we iterate the function it will always return to a loop of 4->2->1."
   ]
  },
  {
   "cell_type": "markdown",
   "metadata": {},
   "source": [
    "#### 3a.3:"
   ]
  },
  {
   "cell_type": "markdown",
   "metadata": {},
   "source": [
    "The code that performs this can be found in the cell below, it essentially uses a slightly modified version of the hail_stone_sequence function, one that returns the iterating variable 'x' to be used in an if statement in a loop that checks what number the function ends at. If it ends at 1, nothing happens, if it doesn't end it one, it prints a statement showing the conjecture is false. At the very end of the script, it also prints a statement showing when the code has completed running, as is useful in functions where infinite loops are possible. This is also shows there are no infinite loops, which would also discredit the Collatz Conjecture."
   ]
  },
  {
   "cell_type": "code",
   "execution_count": null,
   "metadata": {},
   "outputs": [],
   "source": [
    "function hail_stone_sequence(x::Int, verbose::Bool = false)\n",
    "    while x != 1\n",
    "        x = ((x % 2 == 0) ? (x ÷ 2) : (3x + 1)) #\\div + [TAB] for ÷ \n",
    "        verbose\n",
    "    end\n",
    "    return x #changed to return 'x' instead of nothing, this is used in the loop below.\n",
    "end\n",
    "\n",
    "#below is a for loop that iterates over the positive integers up to 10^8.\n",
    "#Each iteration it checks if the hail_stone_sequence function finishes at 1, if it does not, it prints a statement.\n",
    "\n",
    "k = 0;\n",
    "for i in 1:(10^8)\n",
    "    t = hail_stone_sequence(i, true);\n",
    "    if t != 1\n",
    "        println(\"If this prints Collatz is a hack\") #printing statement to show loop that isn't 4->2->1->4->...\n",
    "        k = k + 1;\n",
    "    end\n",
    "end\n",
    "\n",
    "println(\"if this prints, the function finished and thus no infinite loops were found\") #final print showing no infinite loops.\n",
    "if k == 0\n",
    "    println(\"If this prints then all the integers obeyed the Collatz Conjecture\")\n",
    "else\n",
    "    println(\"\\nFound $k numbers that did not obey the Collatz Conjecture\")\n",
    "end\n"
   ]
  },
  {
   "cell_type": "markdown",
   "metadata": {},
   "source": [
    "#### 3b:"
   ]
  },
  {
   "cell_type": "code",
   "execution_count": null,
   "metadata": {},
   "outputs": [],
   "source": [
    "#current way (INCOMPLETE)\n",
    "\n",
    "using Plots\n",
    "function hail_length(x::Int)\n",
    "    n = 0\n",
    "    while x != 1\n",
    "        x = ((x % 2 == 0) ? (x ÷ 2) : (3x + 1))\n",
    "        n += 1\n",
    "    end\n",
    "    return n\n",
    "end\n",
    "\n",
    "\n",
    "\n",
    "function hail_max(N)\n",
    "    max_n = -Inf\n",
    "    for x in 1:N\n",
    "        n = hail_length(x); (n > max_n) && (max_n = n)\n",
    "    end\n",
    "    return max_n;\n",
    "end\n",
    "\n",
    "step_range = 1:10^4\n",
    "max_vals = [hail_max(N) for N in step_range]\n",
    "plot(step_range, max_vals, xaxis=:log, \n",
    "    label=false, xlabel=\"Maximal initial value\", ylabel=\"Maximal number of steps\")"
   ]
  },
  {
   "cell_type": "markdown",
   "metadata": {},
   "source": [
    "#### 3c:"
   ]
  },
  {
   "cell_type": "code",
   "execution_count": null,
   "metadata": {},
   "outputs": [],
   "source": [
    "### Answer 3c here (in place of this comment)"
   ]
  },
  {
   "cell_type": "markdown",
   "metadata": {},
   "source": [
    "---\n",
    "\n",
    "*Use this area below as an experimental playground for the question. Feel free to leave some of the experimental code here with your submision. However, it will not be marked or reviewed. Make sure in your submission that if there is any experimental code here then running it does not interfere with running the actual solutions.*\n",
    "\n",
    "---"
   ]
  },
  {
   "cell_type": "code",
   "execution_count": null,
   "metadata": {},
   "outputs": [],
   "source": []
  },
  {
   "cell_type": "code",
   "execution_count": null,
   "metadata": {},
   "outputs": [],
   "source": []
  },
  {
   "cell_type": "code",
   "execution_count": null,
   "metadata": {},
   "outputs": [],
   "source": []
  },
  {
   "cell_type": "markdown",
   "metadata": {},
   "source": [
    "# Solution to [Question 4](https://courses.smp.uq.edu.au/MATH2504/2022/assessment_html/bighw.html#q4)"
   ]
  },
  {
   "cell_type": "markdown",
   "metadata": {},
   "source": [
    "## 4a:"
   ]
  },
  {
   "cell_type": "code",
   "execution_count": null,
   "metadata": {},
   "outputs": [],
   "source": [
    "### Make this a markdown cell and answer 4a here (in place of this comment)"
   ]
  },
  {
   "cell_type": "markdown",
   "metadata": {},
   "source": [
    "## 4b:"
   ]
  },
  {
   "cell_type": "code",
   "execution_count": null,
   "metadata": {},
   "outputs": [],
   "source": [
    "### Answer 4b here (in place of this comment)"
   ]
  },
  {
   "cell_type": "markdown",
   "metadata": {},
   "source": [
    "## 4c:"
   ]
  },
  {
   "cell_type": "code",
   "execution_count": null,
   "metadata": {},
   "outputs": [],
   "source": [
    "### Answer 4c here (in place of this comment)"
   ]
  },
  {
   "cell_type": "markdown",
   "metadata": {},
   "source": [
    "---\n",
    "\n",
    "*Use this area below as an experimental playground for the question. Feel free to leave some of the experimental code here with your submision. However, it will not be marked or reviewed. Make sure in your submission that if there is any experimental code here then running it does not interfere with running the actual solutions.*\n",
    "\n",
    "---"
   ]
  },
  {
   "cell_type": "code",
   "execution_count": null,
   "metadata": {},
   "outputs": [],
   "source": []
  },
  {
   "cell_type": "code",
   "execution_count": null,
   "metadata": {},
   "outputs": [],
   "source": []
  },
  {
   "cell_type": "code",
   "execution_count": null,
   "metadata": {},
   "outputs": [],
   "source": []
  }
 ],
 "metadata": {
  "kernelspec": {
   "display_name": "Julia 1.7.3",
   "language": "julia",
   "name": "julia-1.7"
  },
  "language_info": {
   "file_extension": ".jl",
   "mimetype": "application/julia",
   "name": "julia",
   "version": "1.7.3"
  }
 },
 "nbformat": 4,
 "nbformat_minor": 4
}
