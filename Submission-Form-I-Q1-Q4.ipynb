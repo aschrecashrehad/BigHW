{
 "cells": [
  {
   "cell_type": "markdown",
   "metadata": {},
   "source": [
    "### MATH2504 S2, 2022, BigHW Submission \n",
    "### Submission form I of IV "
   ]
  },
  {
   "cell_type": "markdown",
   "metadata": {},
   "source": [
    "Student #1 name: Stefan Radosavljevic\n",
    "\n",
    "Student #1 ID:44304065\n",
    "\n",
    "Student #2 name:\n",
    "\n",
    "Student #2 ID:\n",
    "\n",
    "GitHub repo: "
   ]
  },
  {
   "cell_type": "markdown",
   "metadata": {},
   "source": [
    "---\n",
    "\n",
    "**Note: It is expected that this notebook be runnable in the sense that the marker can select \"Restart & Run All\" and all code cells of solutions will execute. This requires not to have name clashes between solutions.**\n",
    "\n",
    "---"
   ]
  },
  {
   "cell_type": "markdown",
   "metadata": {},
   "source": [
    "# Solution to [Question 1](https://courses.smp.uq.edu.au/MATH2504/2022/assessment_html/bighw.html#q1)"
   ]
  },
  {
   "cell_type": "markdown",
   "metadata": {},
   "source": [
    "## 1a:"
   ]
  },
  {
   "cell_type": "markdown",
   "metadata": {},
   "source": [
    "$\\phi = 1 + \\frac{1}{1+\\frac{1}{1+\\frac{1}{1+\\frac{1}{1+\\frac{1}{1}}}}}$ "
   ]
  },
  {
   "cell_type": "markdown",
   "metadata": {},
   "source": [
    "## 1b:"
   ]
  },
  {
   "cell_type": "markdown",
   "metadata": {},
   "source": [
    "<ol>\n",
    "<li><a href=https://www.wizardingworld.com/> Harry Potter <a></li>\n",
    "<li><a href = https://en.wikipedia.org/wiki/Fifty_Shades_of_Grey> Fifty Shades of Grey </a></li>\n",
    "<li><a href=https://en.wikipedia.org/wiki/Beyond_Good_and_Evil> Beyond Good and Evil</a> </li>\n",
    "<li><a href=https://www.penguin.com.au/authors/fyodor-dostoyevsky> All of Dostoyevsky </a> </li>\n",
    "<li><a href=https://www.amazon.com.au/My-Little-Pony-Ultimate-Guide/dp/1408350645/ref=asc_df_1408350645/?tag=googleshopdsk-22&linkCode=df0&hvadid=341772716290&hvpos=&hvnetw=g&hvrand=18173456320029001002&hvpone=&hvptwo=&hvqmt=&hvdev=c&hvdvcmdl=&hvlocint=&hvlocphy=9069314&hvtargid=pla-415302607896&psc=1> My Little Pony Ultimate Guide (Hardcover) </a></li>\n",
    "</ol>"
   ]
  },
  {
   "cell_type": "markdown",
   "metadata": {},
   "source": [
    "## 1c:"
   ]
  },
  {
   "cell_type": "markdown",
   "metadata": {},
   "source": [
   ""
   ]
  },
  {
   "cell_type": "markdown",
   "metadata": {},
   "source": [
    "## 1d:"
   ]
  },
  {
   "cell_type": "markdown",
   "metadata": {},
   "source": [
    "<table>\n",
    "  <tr>\n",
    "    <th>Time</th>\n",
    "    <th>Monday</th>\n",
    "    <th>Tuesday</th>\n",
    "    <th>Wednesday</th>\n",
    "    <th>Thursday</th>\n",
    "    <th>Friday</th>\n",
    "\n",
    "  </tr>\n",
    "  <tr>\n",
    "    <td>9-5</td>\n",
    "    <td>Make a Living</td>\n",
    "    <td>Make a Living</td>\n",
    "    <td>Make a Living</td>\n",
    "    <td>Make a Living</td>\n",
    "    <td>Make a Living</td>\n",
    "  </tr>\n",
    "  <tr>\n",
    "    <td>5-6</td>\n",
    "    <td>LekChurr</td>\n",
    "    <td>Chillen</td>\n",
    "    <td>Chillen</td>\n",
    "    <td>Chillen</td>\n",
    "    <td>Chillen</td>\n",
    "  </tr>\n",
    "  <tr>\n",
    "    <td>6-7</td>\n",
    "    <td>LekChurr</td>\n",
    "    <td>LekChurr</td>\n",
    "    <td>Prac</td>\n",
    "    <td>Chillen</td>\n",
    "    <td>Chillen</td>\n",
    "  </tr>\n",
    "</table>"
   ]
  },
  {
   "cell_type": "markdown",
   "metadata": {},
   "source": [
    "# Solution to [Question 2](https://courses.smp.uq.edu.au/MATH2504/2022/assessment_html/bighw.html#q2)"
   ]
  },
  {
   "cell_type": "markdown",
   "metadata": {},
   "source": [
    "## 2a:"
   ]
  },
  {
   "cell_type": "markdown",
   "metadata": {},
   "source": [
    "#### 2a.1:"
   ]
  },
  {
   "cell_type": "code",
   "execution_count": 17,
   "metadata": {},
   "outputs": [
    {
     "data": {
      "text/plain": [
       "\"Error - this is not a quadratic equation\""
      ]
     },
     "metadata": {},
     "output_type": "display_data"
    }
   ],
   "source": [
    "function real_roots_of_quadratic(a::Number, b::Number, c::Number)\n",
    "\n",
    "    a == 0 && return \"Error - this is not a quadratic equation\"\n",
    "\n",
    "    #Start by initializing an empty array\n",
    "    roots::Array{Float64} = []\n",
    "\n",
    "    #Compute the discriminant \n",
    "    Δ = b^2 - 4a*c #\\Delta + [TAB]\n",
    "\n",
    "    #Based on the sign of the discriminant return 0, 1, or 2 roots.\n",
    "    if Δ < 0 \n",
    "        roots = []\n",
    "    elseif Δ == 0\n",
    "        roots = [-b/(2a)]\n",
    "    else\n",
    "        roots = (-b .+ [√Δ,-√Δ])/(2a) #\\sqrt + [TAB]\n",
    "    end\n",
    "    return roots \n",
    "end\n",
    "\n",
    "#Attempting on -x²+5x-6=0\n",
    "real_roots_of_quadratic(0.00,5,-6)\n",
    "\n"
   ]
  },
  {
   "cell_type": "code",
   "execution_count": null,
   "metadata": {},
   "outputs": [],
   "source": [
    "Seems to work since we input numbers"
   ]
  },
  {
   "cell_type": "markdown",
   "metadata": {},
   "source": [
    "#### 2a.2:"
   ]
  },
  {
   "cell_type": "markdown",
   "metadata": {},
   "source": [
    "4ac wouldnt work, Julia can compute (4a) since a is defined as a variable, and its multiplying the variable 'a' by 4. Won't do the same for '4ac' since it reads 'ac' as a variable which is not defined, this is why 4a*c is used, julia reads it as (4a)*(c)."
   ]
  },
  {
   "cell_type": "markdown",
   "metadata": {},
   "source": [
    "#### 2a.3:"
   ]
  },
  {
   "cell_type": "code",
   "execution_count": null,
   "metadata": {},
   "outputs": [],
   "source": [
    "### Make this a markdown cell and answer 2a.3 here (in place of this comment)"
   ]
  },
  {
   "cell_type": "markdown",
   "metadata": {},
   "source": [
    "#### 2a.4:"
   ]
  },
  {
   "cell_type": "code",
   "execution_count": null,
   "metadata": {},
   "outputs": [],
   "source": [
    "Yes, it works with the given expression of (-b .+ [√Δ,-√Δ])/(2a). Using '+' instead of '.+' makes it not work, this is "
   ]
  },
  {
   "cell_type": "markdown",
   "metadata": {},
   "source": [
    "#### 2a.5:"
   ]
  },
  {
   "cell_type": "code",
   "execution_count": null,
   "metadata": {},
   "outputs": [],
   "source": [
    "### Make this a markdown cell and answer 2a.5 here (in place of this comment)"
   ]
  },
  {
   "cell_type": "markdown",
   "metadata": {},
   "source": [
    "#### 2a.6:"
   ]
  },
  {
   "cell_type": "code",
   "execution_count": null,
   "metadata": {},
   "outputs": [],
   "source": [
    "We get the output 'Nan' and '-Inf' since we're trying to divide by zero, which is a big no no. "
   ]
  },
  {
   "cell_type": "markdown",
   "metadata": {},
   "source": [
    "#### 2a.7:"
   ]
  },
  {
   "cell_type": "code",
   "execution_count": null,
   "metadata": {},
   "outputs": [],
   "source": [
    "function real_roots_of_quadratic(a::Number, b::Number, c::Number)\n",
    "\n",
    "    a == 0 && throw(DomainError(a, \"argument must be nonzero\"))\n",
    "\n",
    "\n",
    "    #Start by initializing an empty array\n",
    "    roots::Array{Float64} = []\n",
    "\n",
    "    #Compute the discriminant \n",
    "    Δ = b^2 - 4a*c #\\Delta + [TAB]\n",
    "\n",
    "    #Based on the sign of the discriminant return 0, 1, or 2 roots.\n",
    "    if Δ < 0 \n",
    "        roots = []\n",
    "    elseif Δ == 0\n",
    "        roots = [-b/(2a)]\n",
    "    else\n",
    "        roots = (-b .+ [√Δ,-√Δ])/(2a) #\\sqrt + [TAB]\n",
    "    end\n",
    "    return roots \n",
    "end\n",
    "\n",
    "#Attempting on -x²+5x-6=0\n",
    "real_roots_of_quadratic(0.00,5,-6)\n",
    "\n"
   ]
  },
  {
   "cell_type": "markdown",
   "metadata": {},
   "source": [
    "#### 2a.8:"
   ]
  },
  {
   "cell_type": "code",
   "execution_count": 18,
   "metadata": {},
   "outputs": [
    {
     "data": {
      "text/plain": [
       "\"Error - this is not a quadratic equation\""
      ]
     },
     "metadata": {},
     "output_type": "display_data"
    }
   ],
   "source": [
    "function real_roots_of_quadratic(a::Number, b::Number, c::Number)\n",
    "\n",
    "    a == 0 && return \"Error - this is not a quadratic equation\"\n",
    "\n",
    "    #Start by initializing an empty array\n",
    "    roots::Array{Float64} = []\n",
    "\n",
    "    #Compute the discriminant \n",
    "    Δ = b^2 - 4a*c #\\Delta + [TAB]\n",
    "\n",
    "    #Based on the sign of the discriminant return 0, 1, or 2 roots.\n",
    "    if Δ < 0 \n",
    "        roots = []\n",
    "    elseif Δ == 0\n",
    "        roots = [-b/(2a)]\n",
    "    else\n",
    "        roots = (-b .+ [√Δ,-√Δ])/(2a) #\\sqrt + [TAB]\n",
    "    end\n",
    "    return roots \n",
    "end\n",
    "\n",
    "#Attempting on -x²+5x-6=0\n",
    "real_roots_of_quadratic(0.00,5,-6)\n",
    "\n"
   ]
  },
  {
   "cell_type": "markdown",
   "metadata": {},
   "source": [
    "#### 2a.9:"
   ]
  },
  {
   "cell_type": "code",
   "execution_count": 19,
   "metadata": {},
   "outputs": [
    {
     "ename": "DomainError",
     "evalue": "DomainError with 0.0:\nargument must be nonzero",
     "output_type": "error",
     "traceback": [
      "DomainError with 0.0:\n",
      "argument must be nonzero\n",
      "\n",
      "Stacktrace:\n",
      "  [1] real_roots_of_quadratic(a::Float64, b::Int64, c::Int64)\n",
      "    @ Main c:\\Users\\stefa\\Desktop\\ProgrammingCourse-with-Julia-SimulationAnalysisAndLearningSystems-main\\submission_forms_jupyter\\Submission-Form-I-Q1-Q4.ipynb:3\n",
      "  [2] top-level scope\n",
      "    @ c:\\Users\\stefa\\Desktop\\ProgrammingCourse-with-Julia-SimulationAnalysisAndLearningSystems-main\\submission_forms_jupyter\\Submission-Form-I-Q1-Q4.ipynb:24\n",
      "  [3] eval\n",
      "    @ .\\boot.jl:373 [inlined]\n",
      "  [4] include_string(mapexpr::typeof(REPL.softscope), mod::Module, code::String, filename::String)\n",
      "    @ Base .\\loading.jl:1196\n",
      "  [5] #invokelatest#2\n",
      "    @ .\\essentials.jl:716 [inlined]\n",
      "  [6] invokelatest\n",
      "    @ .\\essentials.jl:714 [inlined]\n",
      "  [7] (::VSCodeServer.var\"#164#165\"{VSCodeServer.NotebookRunCellArguments, String})()\n",
      "    @ VSCodeServer c:\\Users\\stefa\\.vscode\\extensions\\julialang.language-julia-1.6.24\\scripts\\packages\\VSCodeServer\\src\\serve_notebook.jl:19\n",
      "  [8] withpath(f::VSCodeServer.var\"#164#165\"{VSCodeServer.NotebookRunCellArguments, String}, path::String)\n",
      "    @ VSCodeServer c:\\Users\\stefa\\.vscode\\extensions\\julialang.language-julia-1.6.24\\scripts\\packages\\VSCodeServer\\src\\repl.jl:184\n",
      "  [9] notebook_runcell_request(conn::VSCodeServer.JSONRPC.JSONRPCEndpoint{Base.PipeEndpoint, Base.PipeEndpoint}, params::VSCodeServer.NotebookRunCellArguments)\n",
      "    @ VSCodeServer c:\\Users\\stefa\\.vscode\\extensions\\julialang.language-julia-1.6.24\\scripts\\packages\\VSCodeServer\\src\\serve_notebook.jl:13\n",
      " [10] dispatch_msg(x::VSCodeServer.JSONRPC.JSONRPCEndpoint{Base.PipeEndpoint, Base.PipeEndpoint}, dispatcher::VSCodeServer.JSONRPC.MsgDispatcher, msg::Dict{String, Any})\n",
      "    @ VSCodeServer.JSONRPC c:\\Users\\stefa\\.vscode\\extensions\\julialang.language-julia-1.6.24\\scripts\\packages\\JSONRPC\\src\\typed.jl:67\n",
      " [11] serve_notebook(pipename::String, outputchannel_logger::Base.CoreLogging.SimpleLogger; crashreporting_pipename::String)\n",
      "    @ VSCodeServer c:\\Users\\stefa\\.vscode\\extensions\\julialang.language-julia-1.6.24\\scripts\\packages\\VSCodeServer\\src\\serve_notebook.jl:136\n",
      " [12] top-level scope\n",
      "    @ c:\\Users\\stefa\\.vscode\\extensions\\julialang.language-julia-1.6.24\\scripts\\notebook\\notebook.jl:32\n",
      " [13] include(mod::Module, _path::String)\n",
      "    @ Base .\\Base.jl:418\n",
      " [14] exec_options(opts::Base.JLOptions)\n",
      "    @ Base .\\client.jl:292\n",
      " [15] _start()\n",
      "    @ Base .\\client.jl:495"
     ]
    }
   ],
   "source": [
    "function real_roots_of_quadratic(a::Number, b::Number, c::Number)\n",
    "\n",
    "    a == 0 && throw(DomainError(a, \"argument must be nonzero\"))\n",
    "\n",
    "\n",
    "    #Start by initializing an empty array\n",
    "    roots::Array{Float64} = []\n",
    "\n",
    "    #Compute the discriminant \n",
    "    Δ = b^2 - 4a*c #\\Delta + [TAB]\n",
    "\n",
    "    #Based on the sign of the discriminant return 0, 1, or 2 roots.\n",
    "    if Δ < 0 \n",
    "        roots = []\n",
    "    elseif Δ == 0\n",
    "        roots = [-b/(2a)]\n",
    "    else\n",
    "        roots = (-b .+ [√Δ,-√Δ])/(2a) #\\sqrt + [TAB]\n",
    "    end\n",
    "    return roots \n",
    "end\n",
    "\n",
    "#Attempting on -x²+5x-6=0\n",
    "real_roots_of_quadratic(0.00,5,-6)\n",
    "\n"
   ]
  },
  {
   "cell_type": "markdown",
   "metadata": {},
   "source": [
    "---"
   ]
  },
  {
   "cell_type": "markdown",
   "metadata": {},
   "source": [
    " ## 2b:"
   ]
  },
  {
   "cell_type": "markdown",
   "metadata": {},
   "source": [
    "#### 2b.1:"
   ]
  },
  {
   "cell_type": "code",
   "execution_count": 21,
   "metadata": {},
   "outputs": [
    {
     "name": "stdout",
     "output_type": "stream",
     "text": [
      "The equation 1x² + -5x + 6 = 0 has the real roots 3.0 and 2.0\n",
      "The equation 1x² + 2x + 3 = 0 has no real roots.\n",
      "The equation 1x² + 7x + 0 = 0 has the real roots 0.0 and -7.0\n",
      "The equation 1x² + 1x + 0 = 0 has the real roots 0.0 and -1.0\n",
      "The equation 2x² + 2x + -2 = 0 has the real roots 0.6180339887498949 and -1.618033988749895\n"
     ]
    }
   ],
   "source": [
    "examples = [[1,-5,6], [1,2,3],[1,7,0],[1,1,0],[2,2,-2]]\n",
    "\n",
    "for example in examples\n",
    "    roots = real_roots_of_quadratic(example[1], example[2], example[3])\n",
    "    print(\"The equation $(example[1])x² + $(example[2])x + $(example[3]) = 0 \") #\\^2 + [TAB] #***\n",
    "    if length(roots) == 0 #***\n",
    "        println(\"has no real roots.\") #***\n",
    "    elseif length(roots) == 1 #***\n",
    "        println(\"has the single (real) root $(roots[1])\") #***\n",
    "    else #***\n",
    "        println(\"has the real roots $(roots[1]) and $(roots[2])\") #***\n",
    "    end #***\n",
    "end"
   ]
  },
  {
   "cell_type": "markdown",
   "metadata": {},
   "source": [
    "#### 2b.2:"
   ]
  },
  {
   "cell_type": "code",
   "execution_count": 28,
   "metadata": {},
   "outputs": [
    {
     "name": "stdout",
     "output_type": "stream",
     "text": [
      "The equation 1x² + -5x + 6 = 0 has the real roots 3.0 and 2.0. \t\n",
      "The equation 1x² + 2x + 3 = 0 has no real roots. \t\n",
      "The equation 1x² + 7x + 0 = 0 has the real roots 0.0 and -7.0. \t\n",
      "The equation 1x² + 1x + 0 = 0 has the real roots 0.0 and -1.0. \t\n",
      "The equation 2x² + 2x + -2 = 0 has the real roots 0.6180339887498949 and -1.618033988749895. \t\n"
     ]
    }
   ],
   "source": [
    "examples = [[1,-5,6], [1,2,3],[1,7,0],[1,1,0],[2,2,-2]]\n",
    "\n",
    "function print_quadratic_roots(coefficients,roots)\n",
    "    if length(roots) == 0\n",
    "        println(\"has no real roots. \\t\" )\n",
    "\n",
    "    elseif length(roots)==1\n",
    "        println(\"has the single (real) root $(roots[1]). \\t\")\n",
    "\n",
    "    else \n",
    "        println(\"has the real roots $(roots[1]) and $(roots[2]). \\t\")\n",
    "    return nothing\n",
    "    end\n",
    "end\n",
    "\n",
    "for example in examples\n",
    "    roots = real_roots_of_quadratic(example[1], example[2], example[3])\n",
    "    print(\"The equation $(example[1])x² + $(example[2])x + $(example[3]) = 0 \") #\\^2 + [TAB] #***\n",
    "    print_quadratic_roots(example,roots)\n",
    "end\n"
   ]
  },
  {
   "cell_type": "markdown",
   "metadata": {},
   "source": [
    "#### 2b.3:"
   ]
  },
  {
   "cell_type": "code",
   "execution_count": 37,
   "metadata": {},
   "outputs": [
    {
     "name": "stdout",
     "output_type": "stream",
     "text": [
      "The equation 1x² + -5x + 6 = 0 has the real roots 3.0 and 2.0. \t\n",
      "The equation 1x² + 2x + 3 = 0 has no real roots. \t\n",
      "The equation 1x² + 7x + 0 = 0 has the real roots 0.0 and -7.0. \t\n"
     ]
    },
    {
     "name": "stdout",
     "output_type": "stream",
     "text": [
      "The equation 1x² + 1x + 0 = 0 has the real roots 0.0 and -1.0. \t\n",
      "The equation 2x² + 2x + -2 = 0 has the real roots 0.6180339887498949 and -1.618033988749895. \t\n"
     ]
    }
   ],
   "source": [
    "examples = [[1,-5,6], [1,2,3],[1,7,0],[1,1,0],[2,2,-2]]\n",
    "\n",
    "function print_quadratic_roots(coefficients,roots)\n",
    "    if length(roots) == 0\n",
    "        println(\"has no real roots. \\t\" )\n",
    "\n",
    "    elseif length(roots)==1\n",
    "        println(\"has the single (real) root $(roots[1]). \\t\")\n",
    "\n",
    "    else \n",
    "        println(\"has the real roots $(roots[1]) and $(roots[2]). \\t\")\n",
    "    return nothing\n",
    "    end\n",
    "end\n",
    "\n",
    "function print_equation(coefficients)\n",
    "    example[1] == 1 ? outp(1)=\"\" : example[1]==-1 ? outp(1)=\"-\" :\n",
    "\n",
    "for example in examples\n",
    "    roots = real_roots_of_quadratic(example[1], example[2], example[3])\n",
    "    print(\"The equation $(example[1])x² + $(example[2])x + $(example[3]) = 0 \") #\\^2 + [TAB] #***\n",
    "    print_quadratic_roots(example,roots)\n",
    "end\n"
   ]
  },
  {
   "cell_type": "markdown",
   "metadata": {},
   "source": [
    "## 2c:"
   ]
  },
  {
   "cell_type": "markdown",
   "metadata": {},
   "source": [
    "#### 2c.1:"
   ]
  },
  {
   "cell_type": "code",
   "execution_count": null,
   "metadata": {},
   "outputs": [],
   "source": [
   ""
   ]
  },
  {
   "cell_type": "markdown",
   "metadata": {},
   "source": [
    "#### 2c.2:"
   ]
  },
  {
   "cell_type": "code",
   "execution_count": null,
   "metadata": {},
   "outputs": [],
   "source": [
    "### Answer 2c.1 here (in place of this comment)"
   ]
  },
  {
   "cell_type": "markdown",
   "metadata": {},
   "source": [
    "#### 2c.3:"
   ]
  },
  {
   "cell_type": "code",
   "execution_count": null,
   "metadata": {},
   "outputs": [],
   "source": [
    "l"
   ]
  },
  {
   "cell_type": "markdown",
   "metadata": {},
   "source": [
    "#### 2c.4:"
   ]
  },
  {
   "cell_type": "code",
   "execution_count": null,
   "metadata": {},
   "outputs": [],
   "source": [
    "### Answer 2c.4 here (in place of this comment)"
   ]
  },
  {
   "cell_type": "markdown",
   "metadata": {},
   "source": [
    "#### 2c.5:"
   ]
  },
  {
   "cell_type": "code",
   "execution_count": null,
   "metadata": {},
   "outputs": [],
   "source": [
    "### Answer 2c.5 here (in place of this comment)"
   ]
  },
  {
   "cell_type": "markdown",
   "metadata": {},
   "source": [
    "## 2d:"
   ]
  },
  {
   "cell_type": "code",
   "execution_count": null,
   "metadata": {},
   "outputs": [],
   "source": [
    "### Answer 2d here (in place of this comment)"
   ]
  },
  {
   "cell_type": "markdown",
   "metadata": {},
   "source": [
    "---\n",
    "\n",
    "*Use this area below as an experimental playground for the question. Feel free to leave some of the experimental code here with your submision. However, it will not be marked or reviewed. Make sure in your submission that if there is any experimental code here then running it does not interfere with running the actual solutions.*\n",
    "\n",
    "---"
   ]
  },
  {
   "cell_type": "code",
   "execution_count": null,
   "metadata": {},
   "outputs": [],
   "source": []
  },
  {
   "cell_type": "code",
   "execution_count": null,
   "metadata": {},
   "outputs": [],
   "source": []
  },
  {
   "cell_type": "code",
   "execution_count": null,
   "metadata": {},
   "outputs": [],
   "source": []
  },
  {
   "cell_type": "markdown",
   "metadata": {},
   "source": [
    "# Solution to [Question 3](https://courses.smp.uq.edu.au/MATH2504/2022/assessment_html/bighw.html#q3)"
   ]
  },
  {
   "cell_type": "markdown",
   "metadata": {},
   "source": [
    "## 3a:"
   ]
  },
  {
   "cell_type": "markdown",
   "metadata": {},
   "source": [
    "#### 3a.1:"
   ]
  },
  {
   "cell_type": "markdown",
   "execution_count": null,
   "metadata": {},
   "outputs": [],
   "source": [
    "The function operates by taking some integer 'x', and then placing it through a while loop whereby 'x' is used as the input variable for an if loop.The if loop is ((x % 2 == 0) ? (x ÷ 2) : (3x + 1)), which is 'if xmod(2) is equal to 0, then divide x by two, otherwise, multiply it by three and add 1'. The result of this loop is then fed back into the same if statement as our while loop iterates, until the result equals 1, with each iteration of the while loop printing out the result of that iteration.\nIf we change the integer divide function '÷' into a regular divide function '/' then the result of each loop iteration will be a real as opposed to an intege, i.e. every number printed is of the form 'x.0', that is the integer 'x' followed by a '.0' to denote it as a real."
   ]
  },
  {
   "cell_type": "markdown",
   "metadata": {},
   "source": [
    "#### 3a.2:"
   ]
  },
  {
   "cell_type": "markdown",
   "execution_count": null,
   "metadata": {},
   "outputs": [],
   "source": [
    "The Collatz Conjecture can be mathematically stated as: For the function f(n), where f(n) = n/2 if n is even and f(n) = 3n + 1 if n is odd (n is a positive integer), then if we iterate the function it will always return to a loop of 4->2->1."
   ]
  },
  {
   "cell_type": "markdown",
   "metadata": {},
   "source": [
    "#### 3a.3:"
   ]
  },
  {
   "cell_type": "markdown",
   "execution_count": null,
   "metadata": {},
   "outputs": [],
   "source": [
    "The code that performs this can be found in the cell below, it essentially uses a slightly modified version of the hail_stone_sequence function, one that returns the iterating variable 'x' to be used in an if statement in a loop that checks what number the function ends at. If it ends at 1, nothing happens, if it doesn't end it one, it prints a statement showing the conjecture is false. At the very end of the script, it also prints a statement showing when the code has completed running, as is useful in functions where infinite loops are possible. This is also shows there are no infinite loops, which would also discredit the Collatz Conjecture."
   ]
  },
  {
   "cell_type": "markdown",
   "metadata": {},
   "source": [
    "#### 3b:"
   ]
  },
  {
   "cell_type": "code",
   "execution_count": 1,
   "metadata": {},
   "outputs": [],
   "source": [
    "#current way (kinda incomplete)

using Plots
function hail_length(x::Int)
    n = 0
    while x != 1
        x = ((x % 2 == 0) ? (x ÷ 2) : (3x + 1))
        n += 1
    end
    return n
end



function hail_max(N)
    max_n = -Inf; for x in 1:N; n = hail_length(x); (n > max_n) && (max_n = n); end; return max_n;
end

step_range = 1:10^4
max_vals = [hail_max(N) for N in step_range]
plot(step_range, max_vals, xaxis=:log, 
    label=false, xlabel="Maximal initial value", ylabel="Maximal number of steps")"
   ]
  },
  {
   "cell_type": "markdown",
   "metadata": {},
   "source": [
    "#### 3c:"
   ]
  },
  {
   "cell_type": "code",
   "execution_count": null,
   "metadata": {},
   "outputs": [],
   "source": [
    "### Answer 3c here (in place of this comment)"
   ]
  },
  {
   "cell_type": "markdown",
   "metadata": {},
   "source": [
    "---\n",
    "\n",
    "*Use this area below as an experimental playground for the question. Feel free to leave some of the experimental code here with your submision. However, it will not be marked or reviewed. Make sure in your submission that if there is any experimental code here then running it does not interfere with running the actual solutions.*\n",
    "\n",
    "---"
   ]
  },
  {
   "cell_type": "code",
   "execution_count": null,
   "metadata": {},
   "outputs": [],
   "source": []
  },
  {
   "cell_type": "code",
   "execution_count": null,
   "metadata": {},
   "outputs": [],
   "source": []
  },
  {
   "cell_type": "code",
   "execution_count": null,
   "metadata": {},
   "outputs": [],
   "source": []
  },
  {
   "cell_type": "markdown",
   "metadata": {},
   "source": [
    "# Solution to [Question 4](https://courses.smp.uq.edu.au/MATH2504/2022/assessment_html/bighw.html#q4)"
   ]
  },
  {
   "cell_type": "markdown",
   "metadata": {},
   "source": [
    "## 4a:"
   ]
  },
  {
   "cell_type": "code",
   "execution_count": 2,
   "metadata": {},
   "outputs": [],
   "source": [
    "### Make this a markdown cell and answer 4a here (in place of this comment)"
   ]
  },
  {
   "cell_type": "markdown",
   "metadata": {},
   "source": [
    "## 4b:"
   ]
  },
  {
   "cell_type": "code",
   "execution_count": null,
   "metadata": {},
   "outputs": [],
   "source": [
    "### Answer 4b here (in place of this comment)"
   ]
  },
  {
   "cell_type": "markdown",
   "metadata": {},
   "source": [
    "## 4c:"
   ]
  },
  {
   "cell_type": "code",
   "execution_count": 3,
   "metadata": {},
   "outputs": [],
   "source": [
    "### Answer 4c here (in place of this comment)"
   ]
  },
  {
   "cell_type": "markdown",
   "metadata": {},
   "source": [
    "---\n",
    "\n",
    "*Use this area below as an experimental playground for the question. Feel free to leave some of the experimental code here with your submision. However, it will not be marked or reviewed. Make sure in your submission that if there is any experimental code here then running it does not interfere with running the actual solutions.*\n",
    "\n",
    "---"
   ]
  },
  {
   "cell_type": "code",
   "execution_count": null,
   "metadata": {},
   "outputs": [],
   "source": []
  },
  {
   "cell_type": "code",
   "execution_count": null,
   "metadata": {},
   "outputs": [],
   "source": []
  },
  {
   "cell_type": "code",
   "execution_count": null,
   "metadata": {},
   "outputs": [],
   "source": []
  }
 ],
 "metadata": {
  "kernelspec": {
   "display_name": "Julia 1.7.3",
   "language": "julia",
   "name": "julia-1.7"
  },
  "language_info": {
   "file_extension": ".jl",
   "mimetype": "application/julia",
   "name": "julia",
   "version": "1.7.3"
  }
 },
 "nbformat": 4,
 "nbformat_minor": 4
}
